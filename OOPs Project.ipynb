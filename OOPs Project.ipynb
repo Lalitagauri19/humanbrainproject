{
 "cells": [
  {
   "cell_type": "code",
   "execution_count": 11,
   "id": "0dad94ac",
   "metadata": {},
   "outputs": [],
   "source": [
    "#Coversion of LongURL to ShortURL using OOPs\n",
    "\n",
    "import random \n",
    "import string\n",
    "class ShortURL:\n",
    "    \n",
    "    def __init__(self):        # __init__  means you are define a constructor in python\n",
    "                               #self is the reference to object which is calling  the constructor \n",
    "        self.d=dict()          #This will create a dictionary \n",
    "    \n",
    "        \n",
    "\n",
    "    \n",
    "    def getShortURL(self, longURL):  # Creating a function to get ShortURL \n",
    "        l = random.randint(6,10);    # length = random value in 6-10\n",
    "        \n",
    "        \n",
    "        \n",
    "\n",
    "        # generate random characters into a string of length l\n",
    "        chars = string.ascii_lowercase        #Storing lowercase characters a to z\n",
    "        shortURL = ''.join(random.choice(chars) for i in range(l))     #Choosing random characters of size l\n",
    "        \n",
    "\n",
    "        # check if this string is already present in dict d\n",
    "        if shortURL in self.d:\n",
    "            return getShortURL(longURL);\n",
    "        else:\n",
    "            self.d[shortURL] = longURL;\n",
    "\n",
    "        \n",
    "        r = \"https://www.shortURL.com/\"+shortURL #String Concatination\n",
    "        return r;\n",
    "    \n",
    "    \n",
    "    #Accessing LongURL through generated shortURL\n",
    "    def getLongURL(self, shortURL):\n",
    "        \n",
    "    # extarct key from URL https://www.shortURL.com/mxzmuis ---> mxzmuis\n",
    "     k = shortURL[25:];\n",
    "        \n",
    "        if k in self.d:\n",
    "            return self.d[k];\n",
    "        else:\n",
    "            return None;\n",
    "\n"
   ]
  },
  {
   "cell_type": "code",
   "execution_count": 12,
   "id": "15be18c9",
   "metadata": {},
   "outputs": [
    {
     "name": "stdout",
     "output_type": "stream",
     "text": [
      "https://www.shortURL.com/torervjqqv\n"
     ]
    }
   ],
   "source": [
    "#OUTPUT\n",
    "a=ShortURL()\n",
    "print(a.getShortURL('https://python.plainenglish.io/how-to-build-a-streamlit-app-to-scrape-github-profiles-f36d41fb98c'))"
   ]
  },
  {
   "cell_type": "code",
   "execution_count": 1,
   "id": "6a203efa",
   "metadata": {},
   "outputs": [
    {
     "name": "stdout",
     "output_type": "stream",
     "text": [
      "Hello shiva sir  \n"
     ]
    }
   ],
   "source": [
    "print(\"Hello shiva sir  \")"
   ]
  },
  {
   "cell_type": "code",
   "execution_count": 2,
   "id": "7a78dfb7-253c-43c7-914e-8dadf0a9935a",
   "metadata": {},
   "outputs": [],
   "source": [
    "# Testing"
   ]
  },
  {
   "cell_type": "code",
   "execution_count": 3,
   "id": "8b84ba2e-41a4-47ca-b3d0-7015a49d8f7f",
   "metadata": {},
   "outputs": [],
   "source": []
  },
  {
   "cell_type": "code",
   "execution_count": 1,
   "id": "4e3dcb10-ca2e-463a-b608-3ca88fad9e4d",
   "metadata": {},
   "outputs": [],
   "source": []
  },
  {
   "cell_type": "code",
   "execution_count": null,
   "id": "086d30e8-d5e8-49dd-bd11-56cfb28c5dc5",
   "metadata": {},
   "outputs": [],
   "source": []
  },
  {
   "cell_type": "code",
   "execution_count": null,
   "id": "755cd496-adf1-4701-8afa-3f648d6a39c1",
   "metadata": {},
   "outputs": [],
   "source": []
  }
 ],
 "metadata": {
  "kernelspec": {
   "display_name": "Python 3 (ipykernel)",
   "language": "python",
   "name": "python3"
  },
  "language_info": {
   "codemirror_mode": {
    "name": "ipython",
    "version": 3
   },
   "file_extension": ".py",
   "mimetype": "text/x-python",
   "name": "python",
   "nbconvert_exporter": "python",
   "pygments_lexer": "ipython3",
   "version": "3.8.10"
  }
 },
 "nbformat": 4,
 "nbformat_minor": 5
}
